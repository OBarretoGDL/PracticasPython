{
  "nbformat": 4,
  "nbformat_minor": 0,
  "metadata": {
    "colab": {
      "provenance": [],
      "authorship_tag": "ABX9TyOTxLSdVx8pL8GugRvgQEzv",
      "include_colab_link": true
    },
    "kernelspec": {
      "name": "python3",
      "display_name": "Python 3"
    },
    "language_info": {
      "name": "python"
    }
  },
  "cells": [
    {
      "cell_type": "markdown",
      "metadata": {
        "id": "view-in-github",
        "colab_type": "text"
      },
      "source": [
        "<a href=\"https://colab.research.google.com/github/OBarretoGDL/PracticasPython/blob/SecModuleFinalProject/LongitudDeFrase.ipynb\" target=\"_parent\"><img src=\"https://colab.research.google.com/assets/colab-badge.svg\" alt=\"Open In Colab\"/></a>"
      ]
    },
    {
      "cell_type": "markdown",
      "source": [
        "Crear un programa para identificar la longitud de una palabra ingresada. La palabra correcta debe tener entre cuatro y ocho letras. toma en cuenta las siguientes consideraciones:\n",
        "\n",
        "*  Si la longitud de la palabra se encuentra en el  \n",
        "   ango de cuatro a ocho letras, se debe imprimir un mensaje que indique que la palabra es correcta.\n",
        "\n",
        "*  Si la palabra tiene menos de 4 letras debe indicar\n",
        "   un mensaje que diga: “Hacen falta letras. Solo tiene N letras” (siendo N el número de letras de la palabra).\n",
        "\n",
        "*  Si la palabra tiene más de 8 letras debe indicar  \n",
        "   un mensaje que diga: “Sobran letras. Tiene N letras” (siendo N el número de letras de la palabra).\n",
        "\n",
        "\n",
        "\n",
        "\n",
        "\n"
      ],
      "metadata": {
        "id": "mN9ugzqF61-f"
      }
    },
    {
      "cell_type": "code",
      "execution_count": 28,
      "metadata": {
        "id": "fmJdULzP6psU"
      },
      "outputs": [],
      "source": [
        "#Crear el metodo para evaluar la palabra\n",
        "def longitud(palabra, lMin, lMax):\n",
        "  while True:\n",
        "\n",
        "        if lMin <= len(palabra) <= lMax:\n",
        "            print(f\"Bien echo, la palabra '{palabra}' tiene {len(palabra)} caracteres\")\n",
        "            return palabra\n",
        "\n",
        "        elif len(palabra) < lMin:\n",
        "          print(f\"Hacen falta letras. La palabra '{palabra}' solo tiene {len(palabra)} letras y el minimo es {lMin}\")\n",
        "        elif len(palabra) > lMax:\n",
        "            print(f\"Sobran letras. La palabra '{palabra}' tiene {len(palabra)} letras y el maximo es {lMax}\")\n",
        "\n",
        "        palabra = input(f\"Ingrese una palabra entre {lMin} y {lMax} caracteres: \")\n",
        "\n",
        "\n"
      ]
    },
    {
      "cell_type": "code",
      "source": [
        "# Determinar el Rango que se quiere evaluar, se pedira al usuario ingresar en que rango min and max\n",
        "# que delimitara la longitud de la palabra\n",
        "lMin= int(input(\"Ingrese el Rango Minimo: \"))\n",
        "lMax= int(input(\"Ingrese el Rango Maximo: \"))\n",
        "while lMin>lMax:\n",
        "      print(\"El Rango Minimo no puede ser mayor al Rango Maximo\")\n",
        "      lMin= int(input(\"Ingrese el Rango Minimo: \"))\n",
        "      lMax= int(input(\"Ingrese el Rango Maximo: \"))\n",
        "\n",
        "\n",
        "# Pedir al usuario que ingrese una palabra y evaluar su longitud\n",
        "palabra= input(f\"ingrese una palabra entre {lMin} y {lMax} caracteres por favor: \")\n",
        "resultado = longitud(palabra, lMin, lMax)\n"
      ],
      "metadata": {
        "colab": {
          "base_uri": "https://localhost:8080/"
        },
        "id": "kr5ebtPs-1oF",
        "outputId": "b7843388-e76c-4065-c00c-6faaba79ac61"
      },
      "execution_count": 32,
      "outputs": [
        {
          "output_type": "stream",
          "name": "stdout",
          "text": [
            "Ingrese el Rango Minimo: 5\n",
            "Ingrese el Rango Maximo: 3\n",
            "El Rango Minimo no puede ser mayor al Rango Maximo\n",
            "Ingrese el Rango Minimo: 5\n",
            "Ingrese el Rango Maximo: 5\n",
            "ingrese una palabra entre 5 y 5 caracteres por favor: Hola1\n",
            "Bien echo, la palabra 'Hola1' tiene 5 caracteres\n"
          ]
        }
      ]
    }
  ]
}