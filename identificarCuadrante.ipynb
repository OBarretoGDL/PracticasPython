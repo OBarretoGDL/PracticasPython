{
  "nbformat": 4,
  "nbformat_minor": 0,
  "metadata": {
    "colab": {
      "provenance": [],
      "authorship_tag": "ABX9TyNzc4NuaCJS7zZ36gEdIJv8",
      "include_colab_link": true
    },
    "kernelspec": {
      "name": "python3",
      "display_name": "Python 3"
    },
    "language_info": {
      "name": "python"
    }
  },
  "cells": [
    {
      "cell_type": "markdown",
      "metadata": {
        "id": "view-in-github",
        "colab_type": "text"
      },
      "source": [
        "<a href=\"https://colab.research.google.com/github/OBarretoGDL/PracticasPython/blob/SecModuleFinalProject/identificarCuadrante.ipynb\" target=\"_parent\"><img src=\"https://colab.research.google.com/assets/colab-badge.svg\" alt=\"Open In Colab\"/></a>"
      ]
    },
    {
      "cell_type": "markdown",
      "source": [
        "\n",
        "\n",
        "\n",
        "# Encuentra el cuadrante\n",
        "\n",
        "Crear un programa que en base a 2 números de entrada, \"coordenadas\" , identifique en cuál de los 4 cuadrantes se encuentra el punto. El programa debe verificar que ninguna coordenada sea 0\n",
        "\n",
        "(X,Y): (+,+) => Cuad 1; (-,+) => Cuad 2; (-,-) => Cuad 3; (+,-) => Cuad 4  \n",
        "\n",
        "\n",
        "\n"
      ],
      "metadata": {
        "id": "zzTqnOIVFSwe"
      }
    },
    {
      "cell_type": "code",
      "execution_count": 5,
      "metadata": {
        "id": "nLpt-pQXFOig"
      },
      "outputs": [],
      "source": [
        "\n",
        "# Funcion que evalua el cuadrante de las cordenadas dadas\n",
        "def cuadrante(x,y):\n",
        "  if x > 0 < y:\n",
        "    print(\"El punto se encuentra en el cuadrante 1\")\n",
        "  elif x < 0 <y:\n",
        "    print(\"El punto se encuentra en el cuadrante 2\")\n",
        "\n",
        "  elif x < 0 < y:\n",
        "    print(\"El punto se encuentra en el cuadrante 3\")\n",
        "  elif x > 0 > y:\n",
        "    print(\"El punto se encuentra en el cuadrante 4\")\n",
        "\n",
        ""
      ]
    },
    {
      "cell_type": "code",
      "source": [
        "# Vamos a definir la Funcion que evalua si los valores ingresados son diferentes a 0\n",
        "\n",
        "while True:\n",
        "    try:\n",
        "        cuadX = int(input(\"Ingrese el valor de X: \"))\n",
        "        cuadY = int(input(\"Ingrese el valor de Y: \"))\n",
        "\n",
        "        if cuadX != 0 and cuadY != 0:\n",
        "            break  # Salir del ciclo si ambos valores son diferentes de 0\n",
        "        else:\n",
        "            if cuadX == 0 and cuadY == 0:\n",
        "                print(\"La coordenada dada es el Origen (0,0). Los valores ingresados deben ser diferentes a 0.\")\n",
        "            else:\n",
        "                print(\"Ambos valores ingresados deben ser diferentes a 0.\")\n",
        "\n",
        "    except ValueError:\n",
        "        print(\"Error: Los valores ingresados deben ser números enteros.\")\n",
        "\n",
        "# Aquí cuadX y cuadY tienen valores diferentes de 0\n",
        "cuadrante(cuadX, cuadY)\n",
        "\n"
      ],
      "metadata": {
        "colab": {
          "base_uri": "https://localhost:8080/"
        },
        "id": "nimQMrheKInh",
        "outputId": "38e28931-4fdb-40b3-f310-7de51a053a6b"
      },
      "execution_count": 9,
      "outputs": [
        {
          "output_type": "stream",
          "name": "stdout",
          "text": [
            "Ingrese el valor de X: 2+2\n",
            "Error: Los valores ingresados deben ser números enteros.\n",
            "Ingrese el valor de X: 515\n",
            "Ingrese el valor de Y: ++9\n",
            "Error: Los valores ingresados deben ser números enteros.\n",
            "Ingrese el valor de X: 56465\n",
            "Ingrese el valor de Y: 454\n",
            "El punto se encuentra en el cuadrante 1\n"
          ]
        }
      ]
    }
  ]
}