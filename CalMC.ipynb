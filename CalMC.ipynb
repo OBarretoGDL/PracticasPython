{
  "nbformat": 4,
  "nbformat_minor": 0,
  "metadata": {
    "colab": {
      "provenance": [],
      "authorship_tag": "ABX9TyPEYWsqZvTBpDAUkj5eHKQ1",
      "include_colab_link": true
    },
    "kernelspec": {
      "name": "python3",
      "display_name": "Python 3"
    },
    "language_info": {
      "name": "python"
    }
  },
  "cells": [
    {
      "cell_type": "markdown",
      "metadata": {
        "id": "view-in-github",
        "colab_type": "text"
      },
      "source": [
        "<a href=\"https://colab.research.google.com/github/OBarretoGDL/PracticasPython/blob/main/CalMC.ipynb\" target=\"_parent\"><img src=\"https://colab.research.google.com/assets/colab-badge.svg\" alt=\"Open In Colab\"/></a>"
      ]
    },
    {
      "cell_type": "markdown",
      "source": [
        "Crear un programa que pida al usuario su nombre, apellido paterno, apellido materno, edad, peso y estatura, desplegarlos en pantalla junto con su Índice de Masa Corporal (IMC).\n",
        "\n",
        "El programa no puede permitir que ningún dato quede vacío, además de asegurarse de que en los campos de edad, peso y estatura el usuario introduzca una cifra. Todo esto antes de proceder con el cálculo del IMC\n"
      ],
      "metadata": {
        "id": "zirtNWk2EiIZ"
      }
    },
    {
      "cell_type": "code",
      "execution_count": null,
      "metadata": {
        "id": "5Om-jcmlrj2J"
      },
      "outputs": [],
      "source": [
        "from itertools import filterfalse\n",
        "# Declaracion de Variables Generales\n",
        "\n",
        "nombre= ''\n",
        "apellidoPaterno=''\n",
        "apellidoMaterno=''\n",
        "edad= 0\n",
        "estatura= 0.0\n",
        "peso=0.0\n",
        "IMCResult=0.0\n",
        "\n"
      ]
    },
    {
      "cell_type": "markdown",
      "source": [
        "************* Funciones"
      ],
      "metadata": {
        "id": "exoX5qcVPUAY"
      }
    },
    {
      "cell_type": "code",
      "source": [
        "# Calcular IMC\n",
        "def calcIMC(estatura, peso):\n",
        "    return peso / (estatura ** 2)"
      ],
      "metadata": {
        "id": "th8h55TG4oWB"
      },
      "execution_count": null,
      "outputs": []
    },
    {
      "cell_type": "code",
      "source": [
        "# Esta funcion toma los datos proporcionados por el Usuario y hace la validacion de tipo de dato\n",
        "def getData(msg, dataType=str, validation=lambda x: x.strip() != \"\"):\n",
        "    while True:\n",
        "        dataValidation = input(msg).strip()\n",
        "        try:\n",
        "            dataValidation = dataType(dataValidation)\n",
        "            if validation(dataValidation):\n",
        "                return dataValidation\n",
        "            else:\n",
        "                print(\"Información incorrecta, favor de intentar de nuevo.\")\n",
        "        except ValueError:\n",
        "            if dataType == str:\n",
        "                print(\"Información incorrecta, favor de usar solo letras.\")\n",
        "            elif dataType == int or dataType == float:\n",
        "                print(\"Información incorrecta, favor de usar solo números y respetar el formato.\")\n",
        "\n",
        "            else:\n",
        "                print(\"Información incorrecta, favor de intentar de nuevo.\")"
      ],
      "metadata": {
        "id": "RK75QRatg52O"
      },
      "execution_count": null,
      "outputs": []
    },
    {
      "cell_type": "code",
      "source": [],
      "metadata": {
        "id": "rv3TOuRqzPjc"
      },
      "execution_count": null,
      "outputs": []
    },
    {
      "cell_type": "markdown",
      "source": [
        "Ya con las funciones definidas iniciamos la interaccion con el usuario."
      ],
      "metadata": {
        "id": "_JPyZilfmaOs"
      }
    },
    {
      "cell_type": "code",
      "source": [
        "# Obtener Datos de usuario\n",
        "nombre = getData(\"Ingrese solo su primer nombre: \")\n",
        "apellidoPaterno = getData(\"Ingrese su Apellido Paterno: \")\n",
        "apellidoMaterno = getData(\"Ingrese su apellido Materno: \")\n",
        "\n",
        "# Obtener la edad del usuario con validación\n",
        "while True:\n",
        "    edad = getData(\"Ingrese su edad: \", int, lambda x: x > 0)\n",
        "    if edad < 18:\n",
        "        print(\"Este cálculo solo es válido para mayores de edad.\")\n",
        "    else:\n",
        "        break\n",
        "\n",
        "estatura = getData(\"Ingrese su estatura en formato 'Metros' (Eg 1.75): \", float, lambda x: x>0 and x<2.50 )\n",
        "peso = getData(\"Ingrese su peso en formato 'Kilos' (Eg 85.3): \", float, lambda x: x > 0)\n",
        "\n",
        "\n",
        "nombreCompleto = nombre + \" \" + apellidoPaterno + \" \" + apellidoMaterno\n",
        "IMCResult = calcIMC(estatura, peso)\n",
        "\n",
        "# Determinar el estado del IMC\n",
        "if IMCResult < 18.50:\n",
        "    IMCstatus = \"Peso Bajo\"\n",
        "elif 18.50 <= IMCResult <= 24.99:\n",
        "    IMCstatus = \"Peso Normal\"\n",
        "elif 25 <= IMCResult <= 29.99:\n",
        "    IMCstatus = \"Sobrepeso\"\n",
        "elif 30 <= IMCResult <= 34.99:\n",
        "    IMCstatus = \"Obesidad Leve\"\n",
        "elif 35 <= IMCResult <= 39.99:\n",
        "    IMCstatus = \"Obesidad Media\"\n",
        "elif IMCResult >= 40:\n",
        "    IMCstatus = \"Obesidad Mórbida\"\n",
        "\n"
      ],
      "metadata": {
        "id": "GvNTLTFhmj-i"
      },
      "execution_count": null,
      "outputs": []
    },
    {
      "cell_type": "markdown",
      "source": [
        "Desplegar informacion"
      ],
      "metadata": {
        "id": "PujejMq40Gh0"
      }
    },
    {
      "cell_type": "code",
      "source": [
        "# Imprimir el resultado\n",
        "print(f\"\"\"Buen día {nombreCompleto}\n",
        "De acuerdo a los datos proporcionados:\n",
        "Edad: {edad}, Estatura: {estatura} m, y Peso: {peso} kg\n",
        "se pudo determinar un Índice de Masa Corporal de {IMCResult:.2f},\n",
        "lo que nos indica que usted se encuentra en '{IMCstatus}'.\"\"\")\n"
      ],
      "metadata": {
        "id": "ePMXQ_SvwkYN"
      },
      "execution_count": null,
      "outputs": []
    }
  ]
}